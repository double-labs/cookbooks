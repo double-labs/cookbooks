{
 "cells": [
  {
   "cell_type": "markdown",
   "metadata": {},
   "source": [
    "# Market competition watch\n",
    "In this notebook, we will assume that we're running a company selling a product - vacuum cleaners -, and we want to monitor our competitors, by looking at the positive and negative reviews that their products are receiving and latest product announcements.\n",
    "\n",
    "### Generate an API key\n",
    "To get started, generated an API key in the [Twin dashboard](https://app.twin.so/keys) and substitute the value of the variable `twin_key` below. "
   ]
  },
  {
   "cell_type": "code",
   "execution_count": null,
   "metadata": {},
   "outputs": [],
   "source": [
    "import requests\n",
    "import time\n",
    "\n",
    "twin_key = \"<your api key>\"\n",
    "browse_endpoint = \"https://api.twin.so/browse\"\n",
    "task_endpoint = \"http://api.twin.so/task/\""
   ]
  },
  {
   "cell_type": "markdown",
   "metadata": {},
   "source": [
    "Define the websites we want to navigate"
   ]
  },
  {
   "cell_type": "code",
   "execution_count": null,
   "metadata": {},
   "outputs": [],
   "source": [
    "name_of_competitors = [\"Dyson\", \"Shark\", \"LG\", \"Samsung\"]"
   ]
  },
  {
   "cell_type": "markdown",
   "metadata": {},
   "source": [
    "We'll define a helper function that waits until the task is completed. The `/browse` endpoint is asynchronous, therefore we need to poll `/task/{taskId}` until the task is completed"
   ]
  },
  {
   "cell_type": "code",
   "execution_count": null,
   "metadata": {},
   "outputs": [],
   "source": [
    "def wait_for_tasks(task_ids):\n",
    "    outputs = []\n",
    "    latest_actions = {task_id: None for task_id in task_ids}\n",
    "    remaining_tasks = set(task_ids)\n",
    "\n",
    "    while remaining_tasks:\n",
    "        for task_id in list(remaining_tasks):\n",
    "            response = requests.get(url=task_endpoint + task_id + \"?limit=1\", headers={\"x-api-key\": twin_key})\n",
    "            data = response.json()\n",
    "            \n",
    "            if data[\"status\"] in {\"COMPLETED\", \"FAILED\"}:\n",
    "                outputs.append(data[\"output\"])\n",
    "                remaining_tasks.remove(task_id)\n",
    "            elif data[\"steps\"] and data[\"steps\"][0][\"action\"] and latest_actions[task_id] != data[\"steps\"][0][\"action\"]:\n",
    "                latest_actions[task_id] = data[\"steps\"][0][\"action\"]\n",
    "                print(f\"Task {task_id}: {latest_actions[task_id]}\")\n",
    "        \n",
    "        time.sleep(1)\n",
    "    \n",
    "    return outputs"
   ]
  },
  {
   "cell_type": "markdown",
   "metadata": {},
   "source": [
    "### Amazon reviews\n",
    "\n",
    "For the first step, we'll check Amazon to find the reviews"
   ]
  },
  {
   "cell_type": "code",
   "execution_count": null,
   "metadata": {},
   "outputs": [],
   "source": [
    "def launch_amazon_task():\n",
    "    amazon_task_ids = []\n",
    "\n",
    "    for competitor in name_of_competitors:\n",
    "        print(f\"Getting reviews for {competitor}\")\n",
    "        response = requests.post(\n",
    "            url=browse_endpoint,\n",
    "            headers={\"x-api-key\": twin_key},\n",
    "            json={\n",
    "                \"goal\": f\"Find the latest reviews for {competitor}'s most popular vacuum cleaner - summarize the points made in the most positive and negative ones\",\n",
    "                \"startUrl\": \"https://www.amazon.com/\",\n",
    "            },\n",
    "        )\n",
    "        amazon_task_ids.append(response.json()[\"taskId\"])\n",
    "    return amazon_task_ids\n",
    "\n",
    "amazon_task_ids = launch_amazon_task()\n",
    "amazon_reviews = wait_for_tasks(amazon_task_ids)"
   ]
  },
  {
   "cell_type": "code",
   "execution_count": null,
   "metadata": {},
   "outputs": [],
   "source": [
    "for review, competitor in zip(amazon_reviews, name_of_competitors):\n",
    "    print(f\"# Reviews for {competitor}\")\n",
    "    print(review)\n",
    "    print(\"-\"*100)\n",
    "    print(\"\\n\\n\")\n"
   ]
  },
  {
   "cell_type": "markdown",
   "metadata": {},
   "source": [
    "### Latest announcements\n",
    "\n",
    "Now we'll find what are the latest announcements by each company using Google News"
   ]
  },
  {
   "cell_type": "code",
   "execution_count": null,
   "metadata": {},
   "outputs": [],
   "source": [
    "def launch_latest_announcements_task():\n",
    "    latest_announcements_task_ids = []\n",
    "\n",
    "    for competitor in name_of_competitors:\n",
    "        print(f\"Getting latest announcements for {competitor}\")\n",
    "        response = requests.post(\n",
    "            url=browse_endpoint,\n",
    "            headers={\"x-api-key\": twin_key},\n",
    "            json={\n",
    "                \"goal\": f\"Find the latest product announcements of {competitor}, by searching for '{competitor} product announcements\",\n",
    "                \"startUrl\": \"https://news.google.com/\",\n",
    "            },\n",
    "        )\n",
    "        latest_announcements_task_ids.append(response.json()[\"taskId\"])\n",
    "    return latest_announcements_task_ids\n",
    "\n",
    "latest_announcements_task_ids = launch_latest_announcements_task()\n",
    "latest_announcements = wait_for_tasks(latest_announcements_task_ids)\n",
    "for announcement in latest_announcements:\n",
    "    print(announcement)\n",
    "    print(\"\\n\\n\")"
   ]
  },
  {
   "cell_type": "code",
   "execution_count": null,
   "metadata": {},
   "outputs": [],
   "source": []
  },
  {
   "cell_type": "code",
   "execution_count": null,
   "metadata": {},
   "outputs": [],
   "source": []
  }
 ],
 "metadata": {
  "kernelspec": {
   "display_name": ".venv",
   "language": "python",
   "name": "python3"
  },
  "language_info": {
   "codemirror_mode": {
    "name": "ipython",
    "version": 3
   },
   "file_extension": ".py",
   "mimetype": "text/x-python",
   "name": "python",
   "nbconvert_exporter": "python",
   "pygments_lexer": "ipython3",
   "version": "3.12.4"
  }
 },
 "nbformat": 4,
 "nbformat_minor": 2
}
