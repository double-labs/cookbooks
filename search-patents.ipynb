{
 "cells": [
  {
   "cell_type": "markdown",
   "metadata": {},
   "source": [
    "# Patent search\n",
    "\n",
    "We'll use Twin to find new patents filed in our industry, over the past week. This is a task that we could run periodically and then send a notification over email, Slack, etc., to stay updated on latest advancements in the field. As an example, we'll use cryptography."
   ]
  },
  {
   "cell_type": "code",
   "execution_count": null,
   "metadata": {},
   "outputs": [],
   "source": [
    "from datetime import datetime, timedelta\n",
    "import time\n",
    "import requests\n",
    "\n",
    "twin_key = \"<your api key>\"\n",
    "browse_endpoint = \"https://api.twin.so/browse\"\n",
    "task_endpoint = \"http://api.twin.so/task/\"\n",
    "\n",
    "patent_websites = [\n",
    "    \"https://uspto.gov\",\n",
    "    \"https://epo.org\",\n",
    "    \"https://patents.google.com\",\n",
    "]"
   ]
  },
  {
   "cell_type": "markdown",
   "metadata": {},
   "source": [
    "### Helpers\n",
    "\n",
    "Let's define some helpers to get the date from which we want to search, and to wait for the tasks for be completed"
   ]
  },
  {
   "cell_type": "code",
   "execution_count": null,
   "metadata": {},
   "outputs": [],
   "source": [
    "today = datetime.now().strftime(\"%Y-%m-%d\")\n",
    "monthago = (datetime.now() - timedelta(days=30)).strftime(\"%Y-%m-%d\")"
   ]
  },
  {
   "cell_type": "code",
   "execution_count": null,
   "metadata": {},
   "outputs": [],
   "source": [
    "def wait_for_tasks(task_ids):\n",
    "    outputs = []\n",
    "    latest_actions = {task_id: None for task_id in task_ids}\n",
    "    remaining_tasks = set(task_ids)\n",
    "\n",
    "    while remaining_tasks:\n",
    "        for task_id in list(remaining_tasks):\n",
    "            response = requests.get(url=task_endpoint + task_id + \"?limit=1\", headers={\"x-api-key\": twin_key})\n",
    "            data = response.json()\n",
    "            \n",
    "            if data[\"status\"] in {\"COMPLETED\", \"FAILED\"}:\n",
    "                outputs.append(data[\"output\"])\n",
    "                remaining_tasks.remove(task_id)\n",
    "            elif data[\"steps\"] and data[\"steps\"][0][\"action\"] and latest_actions[task_id] != data[\"steps\"][0][\"action\"]:\n",
    "                latest_actions[task_id] = data[\"steps\"][0][\"action\"]\n",
    "                print(f\"Task {task_id}: {latest_actions[task_id]}\")\n",
    "        \n",
    "        time.sleep(1)\n",
    "    \n",
    "    return outputs"
   ]
  },
  {
   "cell_type": "markdown",
   "metadata": {},
   "source": [
    "### Launch Twin\n",
    "\n",
    "Let's now launch Twin to search for patents"
   ]
  },
  {
   "cell_type": "code",
   "execution_count": null,
   "metadata": {},
   "outputs": [],
   "source": [
    "def twin_search_patents():\n",
    "    task_ids = []\n",
    "    for website in patent_websites:\n",
    "        response = requests.post(\n",
    "            url=browse_endpoint,\n",
    "            headers={\"x-api-key\": twin_key},\n",
    "            json={\n",
    "                \"goal\": f\"Find the latest patents filed about cryptography since {monthago}\",\n",
    "                \"startUrl\": website,\n",
    "            }\n",
    "        )\n",
    "        task_ids.append(response.json()[\"taskId\"])\n",
    "    return task_ids\n",
    "\n",
    "task_ids = twin_search_patents()\n",
    "print(task_ids)\n",
    "patents = wait_for_tasks(task_ids)\n",
    "for patent in patents:\n",
    "    print(patent)\n",
    "    print(\"\\n\\n\")"
   ]
  },
  {
   "cell_type": "code",
   "execution_count": null,
   "metadata": {},
   "outputs": [],
   "source": []
  }
 ],
 "metadata": {
  "kernelspec": {
   "display_name": ".venv",
   "language": "python",
   "name": "python3"
  },
  "language_info": {
   "codemirror_mode": {
    "name": "ipython",
    "version": 3
   },
   "file_extension": ".py",
   "mimetype": "text/x-python",
   "name": "python",
   "nbconvert_exporter": "python",
   "pygments_lexer": "ipython3",
   "version": "3.12.4"
  }
 },
 "nbformat": 4,
 "nbformat_minor": 2
}
