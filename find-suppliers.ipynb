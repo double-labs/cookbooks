{
 "cells": [
  {
   "cell_type": "markdown",
   "metadata": {},
   "source": [
    "# Supplier discovery\n",
    "\n",
    "We'll run a task to get some information about suppliers of blast furnaces. We'll ask Twin to find on Alibaba the product according to our specification.\n"
   ]
  },
  {
   "cell_type": "code",
   "execution_count": null,
   "metadata": {},
   "outputs": [],
   "source": [
    "import requests\n",
    "import time\n",
    "\n",
    "twin_key = \"<your api key>\"\n",
    "browse_endpoint = \"https://api.twin.so/browse\"\n",
    "task_endpoint = \"http://api.twin.so/task/\""
   ]
  },
  {
   "cell_type": "code",
   "execution_count": null,
   "metadata": {},
   "outputs": [],
   "source": [
    "def wait_for_tasks(task_ids):\n",
    "    outputs = []\n",
    "    latest_actions = {task_id: None for task_id in task_ids}\n",
    "    remaining_tasks = set(task_ids)\n",
    "\n",
    "    while remaining_tasks:\n",
    "        for task_id in list(remaining_tasks):\n",
    "            response = requests.get(url=task_endpoint + task_id + \"?limit=1\", headers={\"x-api-key\": twin_key})\n",
    "            data = response.json()\n",
    "            \n",
    "            if data[\"status\"] in {\"COMPLETED\", \"FAILED\"}:\n",
    "                outputs.append(data[\"output\"])\n",
    "                remaining_tasks.remove(task_id)\n",
    "            elif data[\"steps\"] and data[\"steps\"][0][\"action\"] and latest_actions[task_id] != data[\"steps\"][0][\"action\"]:\n",
    "                latest_actions[task_id] = data[\"steps\"][0][\"action\"]\n",
    "                print(f\"Task {task_id}: {latest_actions[task_id]}\")\n",
    "        \n",
    "        time.sleep(1)\n",
    "    \n",
    "    return outputs"
   ]
  },
  {
   "cell_type": "code",
   "execution_count": null,
   "metadata": {},
   "outputs": [],
   "source": [
    "def launch_alibaba_task(product_description):\n",
    "    response = requests.post(\n",
    "        url=browse_endpoint,\n",
    "        headers={\"x-api-key\": twin_key},\n",
    "        json={\n",
    "            \"goal\": f\"Find on Alibaba the product according to our specification, and return the URL of the product page: {product_description}\",\n",
    "            \"startUrl\": \"https://www.alibaba.com/\",\n",
    "            \"outputType\": \"url\",\n",
    "        },\n",
    "    )\n",
    "    \n",
    "    return response.json()[\"taskId\"]\n",
    "\n",
    "description = \"an electric scooter that goes at least 40km with a single charge\"\n",
    "task_id = launch_alibaba_task(description)\n",
    "product_page = wait_for_tasks([task_id])\n",
    "\n",
    "print(product_page)\n"
   ]
  }
 ],
 "metadata": {
  "kernelspec": {
   "display_name": ".venv",
   "language": "python",
   "name": "python3"
  },
  "language_info": {
   "codemirror_mode": {
    "name": "ipython",
    "version": 3
   },
   "file_extension": ".py",
   "mimetype": "text/x-python",
   "name": "python",
   "nbconvert_exporter": "python",
   "pygments_lexer": "ipython3",
   "version": "3.12.4"
  }
 },
 "nbformat": 4,
 "nbformat_minor": 2
}
